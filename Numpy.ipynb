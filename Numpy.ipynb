{
 "cells": [
  {
   "cell_type": "code",
   "execution_count": 7,
   "id": "6206404e",
   "metadata": {},
   "outputs": [
    {
     "name": "stdout",
     "output_type": "stream",
     "text": [
      "<class 'list'>\n",
      "<class 'numpy.ndarray'>\n"
     ]
    },
    {
     "data": {
      "text/plain": [
       "array([23, 24, 25, 26, 27])"
      ]
     },
     "execution_count": 7,
     "metadata": {},
     "output_type": "execute_result"
    }
   ],
   "source": [
    "#Convert list into array\n",
    "#importing module\n",
    "import numpy as np\n",
    "lst=[23,24,25,26,27]\n",
    "print(type(lst))\n",
    "#crete array from list\n",
    "arr=np.array(lst)\n",
    "print(type(arr))\n",
    "arr"
   ]
  },
  {
   "cell_type": "code",
   "execution_count": 13,
   "id": "3d9b79dd",
   "metadata": {},
   "outputs": [
    {
     "name": "stdout",
     "output_type": "stream",
     "text": [
      "1\n",
      "2\n"
     ]
    }
   ],
   "source": [
    "#No. of dimentiion\n",
    "import numpy as np\n",
    "arr=np.array([23,24,25,26,27])\n",
    "print(arr.ndim)\n",
    "\n",
    "arr=np.array([[23,24,25,26,27],[23,9,89,88,23]])\n",
    "print(arr.ndim)\n"
   ]
  },
  {
   "cell_type": "code",
   "execution_count": 14,
   "id": "4c9f1709",
   "metadata": {},
   "outputs": [
    {
     "name": "stdout",
     "output_type": "stream",
     "text": [
      "(2, 5)\n"
     ]
    }
   ],
   "source": [
    "#Shape Function\n",
    "print(arr.shape)"
   ]
  },
  {
   "cell_type": "code",
   "execution_count": 16,
   "id": "802a0109",
   "metadata": {},
   "outputs": [
    {
     "name": "stdout",
     "output_type": "stream",
     "text": [
      "10\n"
     ]
    }
   ],
   "source": [
    "#size function\n",
    "print(arr.size)"
   ]
  },
  {
   "cell_type": "code",
   "execution_count": 17,
   "id": "de10515d",
   "metadata": {},
   "outputs": [
    {
     "name": "stdout",
     "output_type": "stream",
     "text": [
      "int32\n"
     ]
    }
   ],
   "source": [
    "#dtype function\n",
    "print(arr.dtype)"
   ]
  },
  {
   "cell_type": "code",
   "execution_count": 21,
   "id": "972c8e15",
   "metadata": {},
   "outputs": [
    {
     "name": "stdout",
     "output_type": "stream",
     "text": [
      "[[0. 0. 0.]\n",
      " [0. 0. 0.]\n",
      " [0. 0. 0.]]\n"
     ]
    }
   ],
   "source": [
    "#numpy Zero Function\n",
    "arr=np.zeros([3,3],dtype=None,order='c')\n",
    "print(arr)"
   ]
  },
  {
   "cell_type": "code",
   "execution_count": 24,
   "id": "742bb359",
   "metadata": {
    "scrolled": true
   },
   "outputs": [
    {
     "name": "stdout",
     "output_type": "stream",
     "text": [
      "[[1 1]\n",
      " [1 1]]\n"
     ]
    }
   ],
   "source": [
    "#numpy once function\n",
    "arr=np.ones([2,2],dtype=int)\n",
    "print(arr)"
   ]
  },
  {
   "cell_type": "code",
   "execution_count": 27,
   "id": "36be5c56",
   "metadata": {},
   "outputs": [
    {
     "name": "stdout",
     "output_type": "stream",
     "text": [
      "[0.28924523 0.72929376 0.60338394]\n",
      "[[0.96572468 0.31985401]\n",
      " [0.82454726 0.48418634]]\n"
     ]
    }
   ],
   "source": [
    "#Random function\n",
    "print(np.random.random(3))\n",
    "\n",
    "print(np.random.random([2,2]))"
   ]
  },
  {
   "cell_type": "code",
   "execution_count": 35,
   "id": "81484e73",
   "metadata": {},
   "outputs": [
    {
     "name": "stdout",
     "output_type": "stream",
     "text": [
      "[0 1 2]\n",
      "[ 4  5  6  7  8  9 10 11 12 13 14 15 16 17 18 19 20 21 22 23 24 25 26 27\n",
      " 28 29 30 31 32 33 34 35 36 37 38 39 40 41 42 43 44 45 46 47 48 49]\n",
      "[ 4  8 12 16 20 24 28 32 36 40 44 48]\n"
     ]
    }
   ],
   "source": [
    "#arrange- return array with evenly spaced\n",
    "print(np.arange(3))\n",
    "print(np.arange(4,50))\n",
    "print(np.arange(4,50,4))\n"
   ]
  },
  {
   "cell_type": "code",
   "execution_count": 36,
   "id": "b035fcac",
   "metadata": {},
   "outputs": [
    {
     "data": {
      "text/plain": [
       "array([0.1       , 0.12222222, 0.14444444, 0.16666667, 0.18888889,\n",
       "       0.21111111, 0.23333333, 0.25555556, 0.27777778, 0.3       ])"
      ]
     },
     "execution_count": 36,
     "metadata": {},
     "output_type": "execute_result"
    }
   ],
   "source": [
    "#linspace function\n",
    "np.linspace(0.1,0.3,10)"
   ]
  },
  {
   "cell_type": "code",
   "execution_count": 50,
   "id": "f9d36010",
   "metadata": {},
   "outputs": [
    {
     "name": "stdout",
     "output_type": "stream",
     "text": [
      "Column-Wise\n",
      " [[10 40 70]\n",
      " [20 50 80]\n",
      " [ 3 60 90]]\n",
      "\n",
      "Row-wise\n",
      " [[10 20  3]\n",
      " [40 50 60]\n",
      " [70 80 90]]\n"
     ]
    }
   ],
   "source": [
    "#reshape function\n",
    "arr=np.array([10,20,3,40,50,60,70,80,90])\n",
    "print(\"Column-Wise\\n\",np.reshape(arr,[3,3],'f'))\n",
    "print()\n",
    "print(\"Row-wise\\n\",np.reshape(arr,[3,3],'c'))"
   ]
  },
  {
   "cell_type": "code",
   "execution_count": 7,
   "id": "76b39aba",
   "metadata": {},
   "outputs": [
    {
     "name": "stdout",
     "output_type": "stream",
     "text": [
      "[1 2 3 4]\n",
      "[ 1  2  3  4  5 10 10 10 10]\n"
     ]
    }
   ],
   "source": [
    "import numpy as np\n",
    "arr=np.array([1,2,3,4,5,6,7,8,9])\n",
    "print(arr[arr < 5])\n",
    "arr[arr > 5] = 10\n",
    "print(arr)"
   ]
  },
  {
   "cell_type": "code",
   "execution_count": null,
   "id": "eaed1ad5",
   "metadata": {},
   "outputs": [],
   "source": []
  },
  {
   "cell_type": "code",
   "execution_count": null,
   "id": "8f3f2d4d",
   "metadata": {},
   "outputs": [],
   "source": []
  }
 ],
 "metadata": {
  "kernelspec": {
   "display_name": "Python 3 (ipykernel)",
   "language": "python",
   "name": "python3"
  },
  "language_info": {
   "codemirror_mode": {
    "name": "ipython",
    "version": 3
   },
   "file_extension": ".py",
   "mimetype": "text/x-python",
   "name": "python",
   "nbconvert_exporter": "python",
   "pygments_lexer": "ipython3",
   "version": "3.11.7"
  }
 },
 "nbformat": 4,
 "nbformat_minor": 5
}
